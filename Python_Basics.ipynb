{
  "nbformat": 4,
  "nbformat_minor": 0,
  "metadata": {
    "colab": {
      "provenance": []
    },
    "kernelspec": {
      "name": "python3",
      "display_name": "Python 3"
    },
    "language_info": {
      "name": "python"
    }
  },
  "cells": [
    {
      "cell_type": "markdown",
      "source": [
        "#Python Basics"
      ],
      "metadata": {
        "id": "2g4wjolORHyq"
      }
    },
    {
      "cell_type": "markdown",
      "source": [
        "#Theoritical *Questions*"
      ],
      "metadata": {
        "id": "TEpX7PBg_umF"
      }
    },
    {
      "cell_type": "markdown",
      "source": [
        "1. What is Python, and why is it popular?\n",
        "-> Python is a general purpose and powerful programming language . It is free and open source and not restricted to any particular domain . It is considered as one of the most versatile programmimg languages as it can be used to develop almost any kind of application icluding desktop application, web application, image processing and many more. Python was developed by Guido Van Rosum.\n",
        "    "
      ],
      "metadata": {
        "id": "8BuIR5VKR4OA"
      }
    },
    {
      "cell_type": "markdown",
      "source": [
        "2. What is an interpreter in Python?\n",
        "-> In Python, an interpreter is a program that executes the Python code directly, translating it line by line into machine code at runtime. It does not produce an intermediate compiled file (like Java or C++ does with .class or .exe files). Instead, the Python interpreter reads and executes the code immediately."
      ],
      "metadata": {
        "id": "w2m1nlRzVPvA"
      }
    },
    {
      "cell_type": "markdown",
      "source": [
        "3. What are pre-defined keywords in Python?\n",
        "-> Predefined keywords are special reserved words in python . Each keyword has a special meaning and is used to define the syntax of language ."
      ],
      "metadata": {
        "id": "0x757JzVV3pr"
      }
    },
    {
      "cell_type": "markdown",
      "source": [
        "4. Can keywords be used as variable names?\n",
        "-> No, keywords cant be used as variable names, functions and class names."
      ],
      "metadata": {
        "id": "UpeGNnseWuTk"
      }
    },
    {
      "cell_type": "markdown",
      "source": [
        "5. What is mutability in Python?\n",
        "-> The process of changing the element of a list container is called mutability. Object or container whose state or value can be changed after they are created are called mutable objects, also called as item assignment.\n",
        "E.g.:- List container or list_cont. One example is shown below"
      ],
      "metadata": {
        "id": "2gMVFinlZNIu"
      }
    },
    {
      "cell_type": "code",
      "source": [
        "list_cont = [1,2,3,4.3,4+5j,True, \"pwskills\"]\n",
        "list_cont [6]"
      ],
      "metadata": {
        "colab": {
          "base_uri": "https://localhost:8080/",
          "height": 35
        },
        "id": "h35HWK3JaPH4",
        "outputId": "08cf4f17-4241-4a43-b041-9b90950724c8"
      },
      "execution_count": 1,
      "outputs": [
        {
          "output_type": "execute_result",
          "data": {
            "text/plain": [
              "'pwskills'"
            ],
            "application/vnd.google.colaboratory.intrinsic+json": {
              "type": "string"
            }
          },
          "metadata": {},
          "execution_count": 1
        }
      ]
    },
    {
      "cell_type": "code",
      "source": [
        "list_cont[6]= \"Sarthak\"\n",
        "list_cont"
      ],
      "metadata": {
        "colab": {
          "base_uri": "https://localhost:8080/"
        },
        "id": "Ma7BzgTybKOB",
        "outputId": "49f612a2-fda4-4ba1-fb44-a90bca7ee79f"
      },
      "execution_count": 3,
      "outputs": [
        {
          "output_type": "execute_result",
          "data": {
            "text/plain": [
              "[1, 2, 3, 4.3, (4+5j), True, 'Sarthak']"
            ]
          },
          "metadata": {},
          "execution_count": 3
        }
      ]
    },
    {
      "cell_type": "markdown",
      "source": [
        "6. Why are lists mutable, but tuples are immutable?\n",
        "-> Lists are designed to be flexible and dynamic. They are used when you need a collection of items that might change over time. You can add, remove, or modify elements in a list.\n",
        "\n",
        "Tuples, on the other hand, are meant to represent fixed collections. They are often used for data that should not change during the lifetime of the program. For example, they are commonly used as keys in dictionaries or to store records (e.g., (x, y) coordinates), where the values should remain constant."
      ],
      "metadata": {
        "id": "e1NvjB-WbkLn"
      }
    },
    {
      "cell_type": "markdown",
      "source": [
        "7.What is the difference between “==” and “is” operators in Python?\n",
        "-> \"==\" in python is a relational operator to check whether a predefined value match exactly with the lately defined one.\n",
        " \"is\" in python is an identity operator used to check whether two variables refer to the same object in the memory or not . An example is sited below"
      ],
      "metadata": {
        "id": "op45boU0dDvA"
      }
    },
    {
      "cell_type": "code",
      "source": [
        "x=\"hello\"\n",
        "y=\"hello\"\n",
        "x is y"
      ],
      "metadata": {
        "colab": {
          "base_uri": "https://localhost:8080/"
        },
        "id": "X3KGPd-FeaqA",
        "outputId": "9e21de87-1542-402e-c055-79a5d920b953"
      },
      "execution_count": 5,
      "outputs": [
        {
          "output_type": "execute_result",
          "data": {
            "text/plain": [
              "True"
            ]
          },
          "metadata": {},
          "execution_count": 5
        }
      ]
    },
    {
      "cell_type": "markdown",
      "source": [
        "8.What are logical operators in Python ?\n",
        "-> In Python, logical operators are used to combine conditional statements. They allow you to perform logical operations like AND, OR, and NOT.\n",
        "\n",
        "i> **and**: Returns True if both operands (conditions) are True. If any of the operands is False, the result will be False.\n",
        "\n",
        "ii> **or**: Returns True if at least one operand is True. If both operands are False, the result will be False.\n",
        "\n",
        "iii> **not**: Reverses the truth value of the operand. If the operand is True, it returns False; if the operand is False, it returns True."
      ],
      "metadata": {
        "id": "Bl5SsaQrem1Z"
      }
    },
    {
      "cell_type": "markdown",
      "source": [
        "9.What is type casting in Python?\n",
        "-> The process of changing the data type of a value or object. It is necessary because while executing or computing using operators, there can be mismatch between the data types . An example is sited below."
      ],
      "metadata": {
        "id": "q2-AOLdBfjw8"
      }
    },
    {
      "cell_type": "code",
      "source": [
        "a=\"2\"\n",
        "b=3\n",
        "\"\"\"normally a string and an integer cant be added . If the string is converted\n",
        "into an integer then the addition can be easily performed\"\"\"\n",
        "int(a)+b\n"
      ],
      "metadata": {
        "colab": {
          "base_uri": "https://localhost:8080/"
        },
        "id": "mrIT3Wxyghwt",
        "outputId": "da5f6abc-207d-4187-da15-e1334aa8cb7f"
      },
      "execution_count": 6,
      "outputs": [
        {
          "output_type": "execute_result",
          "data": {
            "text/plain": [
              "5"
            ]
          },
          "metadata": {},
          "execution_count": 6
        }
      ]
    },
    {
      "cell_type": "markdown",
      "source": [
        "10.What is the difference between implicit and explicit type casting?\n",
        "\n",
        "-> **Implicit Type casting**\n",
        "\n",
        "i> Performed automatically by the compiler.\n",
        "\n",
        "ii> Happens when a value is automatically converted from one data type to another without programmer intervention.\n",
        "\n",
        "iii> Usually occurs when a smaller or less precise type is assigned to a larger or more precise type.\n",
        "\n",
        "  **Explicit Type Casting**\n",
        "\n",
        "i> Performed manually by the programmer.\n",
        "\n",
        "ii> Requires a cast operator to intentionally convert a value from one type to another.\n",
        "\n",
        "iii> Often used when converting between incompatible or risky types (e.g., float to int, object to subclass).\n",
        "\n",
        "iv> Possible data loss or unexpected behavior.\n",
        "\n",
        "\n"
      ],
      "metadata": {
        "id": "QZPyQFhihATb"
      }
    },
    {
      "cell_type": "markdown",
      "source": [
        "11. What is the purpose of conditional statements in Python?\n",
        "-> Conditional statements help us to code decisions based on some preconditions.The various types of conditional statements are **if , ifelse, if elif else, nested if else**."
      ],
      "metadata": {
        "id": "bH1IxznVirhc"
      }
    },
    {
      "cell_type": "markdown",
      "source": [
        "12.How does the elif statement work?\n",
        "-> In real life decisions are made based on multiple conditions. In python how the elif condition works is shown below."
      ],
      "metadata": {
        "id": "TDSDAeQfjXOg"
      }
    },
    {
      "cell_type": "code",
      "source": [
        "a=100000\n",
        "if a<100:\n",
        "  print(\"The number is less than 100\")\n",
        "elif a>2000:\n",
        "  print(\"The number is huge\")\n",
        "elif a>100:\n",
        "  print(\"The number is greater than 100\")\n",
        "else:\n",
        "  print(\"The number is equals to 100\")\n",
        "  \"\"\" If the \"if\" condition is not satisfied the first \"elif\" condition will be\n",
        "   executed . If that is also not true it will go for the other \"elif\"\n",
        "    conditions. If none of the elif condition is true then only the else\n",
        "     condition will start t be get executed \"\"\"\n"
      ],
      "metadata": {
        "colab": {
          "base_uri": "https://localhost:8080/"
        },
        "id": "Y-9GDxH3j1D9",
        "outputId": "f5f158ec-065b-4f74-8744-6c927d0e10e9"
      },
      "execution_count": 7,
      "outputs": [
        {
          "output_type": "stream",
          "name": "stdout",
          "text": [
            "The number is huge\n"
          ]
        }
      ]
    },
    {
      "cell_type": "markdown",
      "source": [
        "13.What is the difference between for and while loops?\n",
        "\n",
        "-> **For Loop**\n",
        "\n",
        "i> Used when you know in advance how many times you want to iterate.\n",
        "\n",
        "ii> Iterates over a sequence (like a list, tuple, string, or range).\n",
        "\n",
        "iii> Automatically stops when the sequence ends.\n",
        "\n",
        "**While Loop**\n",
        "\n",
        "i> Used when you don't know in advance how many times to loop.\n",
        "\n",
        "ii> Continues as long as a condition remains True.\n",
        "\n",
        "iii> Must manually update variables to eventually meet the condition.\n"
      ],
      "metadata": {
        "id": "yd1dv0rSlQmI"
      }
    },
    {
      "cell_type": "markdown",
      "source": [
        "14.Describe a scenario where a while loop is more suitable than a for loop.\n",
        "\n",
        "-> A while loop is more suitable than a for loop in scenarios where you don’t know beforehand how many times the loop should run, and the iteration depends on a condition that may change during execution.\n"
      ],
      "metadata": {
        "id": "jhsvqkHBm5C1"
      }
    },
    {
      "cell_type": "markdown",
      "source": [
        "#Practical Questions"
      ],
      "metadata": {
        "id": "dgTOC3jQqc6F"
      }
    },
    {
      "cell_type": "markdown",
      "source": [
        "1.Write a Python program to print \"Hello, World!\""
      ],
      "metadata": {
        "id": "BgnVtZecqn0w"
      }
    },
    {
      "cell_type": "code",
      "source": [
        "#using basic method\n",
        "print(\"Hello, World!\")"
      ],
      "metadata": {
        "colab": {
          "base_uri": "https://localhost:8080/"
        },
        "id": "eL8a4oZlqxd-",
        "outputId": "317097ca-3e2e-434f-a5d6-4ed69e47a5c6"
      },
      "execution_count": 15,
      "outputs": [
        {
          "output_type": "stream",
          "name": "stdout",
          "text": [
            "Hello, World!\n"
          ]
        }
      ]
    },
    {
      "cell_type": "markdown",
      "source": [
        "2.Write a Python program that displays your name and age."
      ],
      "metadata": {
        "id": "45-yIw4nruI6"
      }
    },
    {
      "cell_type": "code",
      "source": [
        "name= \"Sarthak Chatterjee\"\n",
        "age= 21\n",
        "print(\"My name is\", name)\n",
        "print(\"I am\", age, \"years old.\")"
      ],
      "metadata": {
        "colab": {
          "base_uri": "https://localhost:8080/"
        },
        "id": "aThJ7kqor1Yg",
        "outputId": "9aca61b4-76e9-42b2-ec9a-b9d8c7a6aef2"
      },
      "execution_count": 17,
      "outputs": [
        {
          "output_type": "stream",
          "name": "stdout",
          "text": [
            "My name is Sarthak Chatterjee\n",
            "I am 21 years old.\n"
          ]
        }
      ]
    },
    {
      "cell_type": "markdown",
      "source": [
        "3.Write code to print all the pre-defined keywords in Python using the keyword library"
      ],
      "metadata": {
        "id": "hd9ovoBqsjRM"
      }
    },
    {
      "cell_type": "code",
      "source": [
        "import keyword\n",
        "print (keyword.kwlist)"
      ],
      "metadata": {
        "colab": {
          "base_uri": "https://localhost:8080/"
        },
        "id": "uI0sUW4Asp70",
        "outputId": "9bfbde92-0c39-4f0b-8380-9cf15bfcbecc"
      },
      "execution_count": 18,
      "outputs": [
        {
          "output_type": "stream",
          "name": "stdout",
          "text": [
            "['False', 'None', 'True', 'and', 'as', 'assert', 'async', 'await', 'break', 'class', 'continue', 'def', 'del', 'elif', 'else', 'except', 'finally', 'for', 'from', 'global', 'if', 'import', 'in', 'is', 'lambda', 'nonlocal', 'not', 'or', 'pass', 'raise', 'return', 'try', 'while', 'with', 'yield']\n"
          ]
        }
      ]
    },
    {
      "cell_type": "markdown",
      "source": [
        "4.Write a program that checks if a given word is a Python keyword."
      ],
      "metadata": {
        "id": "5DgiO1jhs2Hy"
      }
    },
    {
      "cell_type": "code",
      "source": [
        "import keyword\n",
        "\n",
        "# Get user input\n",
        "word = input(\"Enter a word: \")\n",
        "\n",
        "# Check if it's a Python keyword\n",
        "if keyword.iskeyword(word):\n",
        "    print(f\"'{word}' is a Python keyword.\")\n",
        "else:\n",
        "    print(f\"'{word}' is NOT a Python keyword.\")"
      ],
      "metadata": {
        "colab": {
          "base_uri": "https://localhost:8080/"
        },
        "id": "VQHa4TZzs8oQ",
        "outputId": "404c33d0-ba0d-4560-f7de-7f785bb66a7f"
      },
      "execution_count": 19,
      "outputs": [
        {
          "output_type": "stream",
          "name": "stdout",
          "text": [
            "Enter a word: Sarthak\n",
            "'Sarthak' is NOT a Python keyword.\n"
          ]
        }
      ]
    },
    {
      "cell_type": "markdown",
      "source": [
        "5.Create a list and tuple in Python, and demonstrate how attempting to change an element works differently\n",
        "for each."
      ],
      "metadata": {
        "id": "2mioCqBItTyP"
      }
    },
    {
      "cell_type": "code",
      "source": [
        "list_cont = [1 , 2 , 4.5 , \"Sarthak\"]\n",
        "list_cont[1] = 7\n",
        "print (\"Updated list is :\", list_cont)\n"
      ],
      "metadata": {
        "colab": {
          "base_uri": "https://localhost:8080/"
        },
        "id": "SNPdLiKhu5K9",
        "outputId": "b1e7d506-2074-4217-a533-a15beaebe9de"
      },
      "execution_count": 27,
      "outputs": [
        {
          "output_type": "stream",
          "name": "stdout",
          "text": [
            "Updated list is : [1, 7, 4.5, 'Sarthak']\n"
          ]
        }
      ]
    },
    {
      "cell_type": "code",
      "source": [
        "# Create a tuple\n",
        "my_tuple = (10, 22 , 30)\n",
        "#trying to change the second element\n",
        "my_tuple [1] = 99"
      ],
      "metadata": {
        "colab": {
          "base_uri": "https://localhost:8080/",
          "height": 176
        },
        "id": "6h03Xli7vSF3",
        "outputId": "30143bdb-cd3b-4b13-a468-1fac06991896"
      },
      "execution_count": 30,
      "outputs": [
        {
          "output_type": "error",
          "ename": "TypeError",
          "evalue": "'tuple' object does not support item assignment",
          "traceback": [
            "\u001b[0;31m---------------------------------------------------------------------------\u001b[0m",
            "\u001b[0;31mTypeError\u001b[0m                                 Traceback (most recent call last)",
            "\u001b[0;32m/tmp/ipython-input-30-903106523.py\u001b[0m in \u001b[0;36m<cell line: 0>\u001b[0;34m()\u001b[0m\n\u001b[1;32m      2\u001b[0m \u001b[0mmy_tuple\u001b[0m \u001b[0;34m=\u001b[0m \u001b[0;34m(\u001b[0m\u001b[0;36m10\u001b[0m\u001b[0;34m,\u001b[0m \u001b[0;36m22\u001b[0m \u001b[0;34m,\u001b[0m \u001b[0;36m30\u001b[0m\u001b[0;34m)\u001b[0m\u001b[0;34m\u001b[0m\u001b[0;34m\u001b[0m\u001b[0m\n\u001b[1;32m      3\u001b[0m \u001b[0;31m#trying to change the second element\u001b[0m\u001b[0;34m\u001b[0m\u001b[0;34m\u001b[0m\u001b[0m\n\u001b[0;32m----> 4\u001b[0;31m \u001b[0mmy_tuple\u001b[0m \u001b[0;34m[\u001b[0m\u001b[0;36m1\u001b[0m\u001b[0;34m]\u001b[0m \u001b[0;34m=\u001b[0m \u001b[0;36m99\u001b[0m\u001b[0;34m\u001b[0m\u001b[0;34m\u001b[0m\u001b[0m\n\u001b[0m",
            "\u001b[0;31mTypeError\u001b[0m: 'tuple' object does not support item assignment"
          ]
        }
      ]
    },
    {
      "cell_type": "markdown",
      "source": [
        "6.Write a function to demonstrate the behavior of mutable and immutable arguments.\n",
        "\n",
        "->  In Python, mutable and immutable objects behave differently when passed as arguments to functions.\n",
        "\n",
        "Mutable objects (like lists, dictionaries) can be changed inside a function.\n",
        "\n",
        "Immutable objects (like integers, strings, tuples) cannot be changed in-place inside a function — any modification creates a new object.\n",
        "\n",
        "\n"
      ],
      "metadata": {
        "id": "E-teySDgv2UT"
      }
    },
    {
      "cell_type": "markdown",
      "source": [
        "7.Write a program that performs basic arithmetic operations on two user-input numbers"
      ],
      "metadata": {
        "id": "R6uNe2JHw0D4"
      }
    },
    {
      "cell_type": "code",
      "source": [
        "# Get user input and convert to float\n",
        "num1 = float(input(\"Enter the first number: \"))\n",
        "num2 = float(input(\"Enter the second number: \"))\n",
        "\n",
        "# Perform arithmetic operations\n",
        "addition = num1 + num2\n",
        "subtraction = num1 - num2\n",
        "multiplication = num1 * num2\n",
        "\n",
        "# Handle division safely\n",
        "if num2 != 0:\n",
        "    division = num1 / num2\n",
        "else:\n",
        "    division = \"Undefined (cannot divide by zero)\"\n",
        "\n",
        "# Display results\n",
        "print(\"\\nResults:\")\n",
        "print(\"Addition:\", addition)\n",
        "print(\"Subtraction:\", subtraction)\n",
        "print(\"Multiplication:\", multiplication)\n",
        "print(\"Division:\", division)"
      ],
      "metadata": {
        "colab": {
          "base_uri": "https://localhost:8080/"
        },
        "id": "fcUvHRp70L1f",
        "outputId": "2e67a045-a98a-4ebb-dd48-d87a255e6568"
      },
      "execution_count": 35,
      "outputs": [
        {
          "output_type": "stream",
          "name": "stdout",
          "text": [
            "Enter the first number: 30\n",
            "Enter the second number: 5\n",
            "\n",
            "Results:\n",
            "Addition: 35.0\n",
            "Subtraction: 25.0\n",
            "Multiplication: 150.0\n",
            "Division: 6.0\n"
          ]
        }
      ]
    },
    {
      "cell_type": "markdown",
      "source": [
        "8.Write a program to demonstrate the use of logical operators.\n",
        "\n",
        "-> There are 3 logical operators **AND , OR , NOT**"
      ],
      "metadata": {
        "id": "TmFJg18L0ViV"
      }
    },
    {
      "cell_type": "code",
      "source": [
        "from ast import And\n",
        "a = True\n",
        "b = False\n",
        "print(a and b)\n",
        "print (a or b)\n",
        "not(a)\n",
        "\"\"\" the technique of operation of the three operators is discussed in question 8\n",
        "of theoritical questions\"\"\""
      ],
      "metadata": {
        "colab": {
          "base_uri": "https://localhost:8080/"
        },
        "id": "dT6VpAYN0vTb",
        "outputId": "134962fe-2e58-452e-bcf8-9cd94c8d0acb"
      },
      "execution_count": 46,
      "outputs": [
        {
          "output_type": "stream",
          "name": "stdout",
          "text": [
            "False\n",
            "True\n"
          ]
        },
        {
          "output_type": "execute_result",
          "data": {
            "text/plain": [
              "False"
            ]
          },
          "metadata": {},
          "execution_count": 46
        }
      ]
    },
    {
      "cell_type": "markdown",
      "source": [
        "9. Write a Python program to convert user input from string to integer, float, and boolean types."
      ],
      "metadata": {
        "id": "NWmaE5gN2HOO"
      }
    },
    {
      "cell_type": "code",
      "source": [
        "#string to integer\n",
        "a = \"2\"\n",
        "b=3\n",
        "print(int(a))\n",
        "print (float(a))\n",
        "print(bool(a))\n",
        "#in boolean any value !=0 is true\n"
      ],
      "metadata": {
        "colab": {
          "base_uri": "https://localhost:8080/"
        },
        "id": "wKnCLGVc2WTF",
        "outputId": "43cb9333-6650-48c8-fb65-279971d85758"
      },
      "execution_count": 53,
      "outputs": [
        {
          "output_type": "stream",
          "name": "stdout",
          "text": [
            "2\n",
            "2.0\n",
            "True\n"
          ]
        }
      ]
    },
    {
      "cell_type": "markdown",
      "source": [
        "10. Write code to demonstrate type casting with list elements."
      ],
      "metadata": {
        "id": "FNYMj2Nf6XJ2"
      }
    },
    {
      "cell_type": "code",
      "source": [
        "# List of strings representing numbers\n",
        "str_list = [\"10\", \"20\", \"30\", \"40\"]\n",
        "# Convert each element to an integer using type casting\n",
        "int_list = [int(item) for item in str_list]\n",
        "print(\"Original list (strings):\", str_list)\n",
        "print(\"Converted list (integers):\", int_list)"
      ],
      "metadata": {
        "colab": {
          "base_uri": "https://localhost:8080/"
        },
        "id": "ZOWuBBCg6pyq",
        "outputId": "33f679da-bfdd-4d26-cdeb-6c0b012f33b2"
      },
      "execution_count": 56,
      "outputs": [
        {
          "output_type": "stream",
          "name": "stdout",
          "text": [
            "Original list (strings): ['10', '20', '30', '40']\n",
            "Converted list (integers): [10, 20, 30, 40]\n"
          ]
        }
      ]
    },
    {
      "cell_type": "markdown",
      "source": [
        "11.. Write a program that checks if a number is positive, negative, or zero."
      ],
      "metadata": {
        "id": "GlblU2KD68Xf"
      }
    },
    {
      "cell_type": "code",
      "source": [
        "# Get user input and convert to float\n",
        "num = float(input(\"Enter a number: \"))\n",
        "\n",
        "# Check the sign of the number\n",
        "if num > 0:\n",
        "    print(\"The number is positive.\")\n",
        "elif num < 0:\n",
        "    print(\"The number is negative.\")\n",
        "else:\n",
        "    print(\"The number is zero.\")"
      ],
      "metadata": {
        "colab": {
          "base_uri": "https://localhost:8080/"
        },
        "id": "TJAF_Hvo8QXW",
        "outputId": "59b040a1-3e8f-41ca-b360-5df1e64415d1"
      },
      "execution_count": 61,
      "outputs": [
        {
          "output_type": "stream",
          "name": "stdout",
          "text": [
            "Enter a number: 7\n",
            "The number is positive.\n"
          ]
        }
      ]
    },
    {
      "cell_type": "markdown",
      "source": [
        "12. Write a for loop to print numbers from 1 to 10."
      ],
      "metadata": {
        "id": "oQrJwgs58Y96"
      }
    },
    {
      "cell_type": "code",
      "source": [
        "for i in range (1,11):\n",
        "  print(i)\n"
      ],
      "metadata": {
        "colab": {
          "base_uri": "https://localhost:8080/"
        },
        "id": "fiJfKhE18g4q",
        "outputId": "17f69961-e0b5-4e9d-a78a-e278313bee27"
      },
      "execution_count": 62,
      "outputs": [
        {
          "output_type": "stream",
          "name": "stdout",
          "text": [
            "1\n",
            "2\n",
            "3\n",
            "4\n",
            "5\n",
            "6\n",
            "7\n",
            "8\n",
            "9\n",
            "10\n"
          ]
        }
      ]
    },
    {
      "cell_type": "markdown",
      "source": [
        "13. Write a Python program to find the sum of all even numbers between 1 and 50."
      ],
      "metadata": {
        "id": "CK5dNYCK84mu"
      }
    },
    {
      "cell_type": "code",
      "source": [
        "# Initialize sum\n",
        "total = 0\n",
        "\n",
        "# Loop through numbers from 1 to 50\n",
        "for num in range(1, 51):\n",
        "    if num % 2 == 0:\n",
        "        total += num\n",
        "\n",
        "# Print the result\n",
        "print(\"The sum of all even numbers from 1 to 50 is:\", total)"
      ],
      "metadata": {
        "colab": {
          "base_uri": "https://localhost:8080/"
        },
        "id": "AMWISsyW98aa",
        "outputId": "497e70cf-c295-42c7-f002-bad69227a46e"
      },
      "execution_count": 66,
      "outputs": [
        {
          "output_type": "stream",
          "name": "stdout",
          "text": [
            "The sum of all even numbers from 1 to 50 is: 650\n"
          ]
        }
      ]
    },
    {
      "cell_type": "markdown",
      "source": [],
      "metadata": {
        "id": "ya5fmtWl7ilJ"
      }
    },
    {
      "cell_type": "markdown",
      "source": [
        "14. Write a program to reverse a string using a while loop."
      ],
      "metadata": {
        "id": "vYOgKpuo-Mr3"
      }
    },
    {
      "cell_type": "code",
      "source": [
        "# Get input from the user\n",
        "original = input(\"Enter a string: \")\n",
        "\n",
        "# Initialize variables\n",
        "reversed_str = \"\"\n",
        "index = len(original) - 1\n",
        "\n",
        "# Loop to build the reversed string\n",
        "while index >= 0:\n",
        "    reversed_str += original[index]\n",
        "    index -= 1\n",
        "\n",
        "# Print the reversed string\n",
        "print(\"Reversed string:\", reversed_str)\n"
      ],
      "metadata": {
        "colab": {
          "base_uri": "https://localhost:8080/"
        },
        "id": "KdaLGjS4-XKa",
        "outputId": "6eb2616e-03c7-40c9-ea6e-8bf4c5f259a5"
      },
      "execution_count": 67,
      "outputs": [
        {
          "output_type": "stream",
          "name": "stdout",
          "text": [
            "Enter a string: Sarthak\n",
            "Reversed string: kahtraS\n"
          ]
        }
      ]
    },
    {
      "cell_type": "markdown",
      "source": [
        "15. Write a Python program to calculate the factorial of a number provided by the user using a while loop."
      ],
      "metadata": {
        "id": "Fjezwpvp-sRZ"
      }
    },
    {
      "cell_type": "code",
      "source": [
        "num = int(input(\"Enter a non-negative integer: \"))\n",
        "\n",
        "# Check for valid input\n",
        "if num < 0:\n",
        "    print(\"Factorial is not defined for negative numbers.\")\n",
        "else:\n",
        "    factorial = 1\n",
        "    i = 1\n",
        "\n",
        "    while i <= num:\n",
        "        factorial *= i\n",
        "        i += 1\n",
        "\n",
        "    print(f\"The factorial of {num} is: {factorial}\")"
      ],
      "metadata": {
        "colab": {
          "base_uri": "https://localhost:8080/"
        },
        "id": "R5s7jVqT-zkF",
        "outputId": "d698c804-e326-460c-96af-fc2dc8824bb2"
      },
      "execution_count": 69,
      "outputs": [
        {
          "output_type": "stream",
          "name": "stdout",
          "text": [
            "Enter a non-negative integer: 3\n",
            "The factorial of 3 is: 6\n"
          ]
        }
      ]
    }
  ]
}